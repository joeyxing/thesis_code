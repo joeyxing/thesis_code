{
 "cells": [
  {
   "cell_type": "markdown",
   "metadata": {
    "deletable": true,
    "editable": true
   },
   "source": [
    "# CNN on TensorFlow for lung cancer image data by Wenqing Sun\n",
    "Lables.txt records the malignancy of each image\n",
    "\n",
    "11484 images in total"
   ]
  },
  {
   "cell_type": "code",
   "execution_count": 1,
   "metadata": {
    "collapsed": false,
    "deletable": true,
    "editable": true
   },
   "outputs": [],
   "source": [
    "import matplotlib.pyplot as plt\n",
    "import numpy as np\n",
    "import os\n",
    "import sys\n",
    "from IPython.display import Image, display\n",
    "from scipy import ndimage\n",
    "import tensorflow as tf\n",
    "import pickle"
   ]
  },
  {
   "cell_type": "code",
   "execution_count": 2,
   "metadata": {
    "collapsed": true,
    "deletable": true,
    "editable": true
   },
   "outputs": [],
   "source": [
    "IMAGE_DIR = '/home/joey/Work/thesis_code/data/Nodule'\n",
    "IMAGE_SIZE = 100\n",
    "IMAGE_DEPTH = 255\n",
    "CHANNEL_NUM=3"
   ]
  },
  {
   "cell_type": "code",
   "execution_count": 3,
   "metadata": {
    "collapsed": true,
    "deletable": true,
    "editable": true
   },
   "outputs": [],
   "source": [
    "%matplotlib inline"
   ]
  },
  {
   "cell_type": "markdown",
   "metadata": {
    "deletable": true,
    "editable": true
   },
   "source": [
    "Read the label file as a python dictionary"
   ]
  },
  {
   "cell_type": "code",
   "execution_count": 4,
   "metadata": {
    "collapsed": false,
    "deletable": true,
    "editable": true
   },
   "outputs": [],
   "source": [
    "mali_label_dict = {}\n",
    "with open('/home/joey/Work/thesis_code/labels.txt', 'r+') as label_file:\n",
    "    labels = label_file.read().split('\\n')\n",
    "    labels.pop(-1)\n",
    "    for filename_label in labels:\n",
    "        tmp_file_label = filename_label.split(' ')\n",
    "        is_mali = False\n",
    "        if tmp_file_label[1] == 'true':\n",
    "            is_mali = True\n",
    "        mali_label_dict[tmp_file_label[0]] = is_mali\n",
    "        "
   ]
  },
  {
   "cell_type": "code",
   "execution_count": 8,
   "metadata": {
    "collapsed": false
   },
   "outputs": [
    {
     "name": "stdout",
     "output_type": "stream",
     "text": [
      "11484\n"
     ]
    }
   ],
   "source": [
    "sum(mali_label_dict.values())\n",
    "print(len(mali_label_dict))"
   ]
  },
  {
   "cell_type": "code",
   "execution_count": 5,
   "metadata": {
    "collapsed": false,
    "deletable": true,
    "editable": true
   },
   "outputs": [
    {
     "data": {
      "text/plain": [
       "11484"
      ]
     },
     "execution_count": 5,
     "metadata": {},
     "output_type": "execute_result"
    }
   ],
   "source": [
    "# print(mali_label_dict[\"Nodule_203.png\"])\n",
    "len(mali_label_dict)"
   ]
  },
  {
   "cell_type": "markdown",
   "metadata": {
    "deletable": true,
    "editable": true
   },
   "source": [
    "select 200 images randomly as test dataset and validation dataset respectively"
   ]
  },
  {
   "cell_type": "code",
   "execution_count": 6,
   "metadata": {
    "collapsed": true,
    "deletable": true,
    "editable": true
   },
   "outputs": [],
   "source": [
    "########\n",
    "# run this cell only once\n",
    "import random\n",
    "from shutil import move\n",
    "\n",
    "def rmdir_(dir_name):\n",
    "    children = os.listdir(dir_name)\n",
    "    for x in children:\n",
    "        child = os.path.join(dir_name, x)\n",
    "        if os.path.isdir(child):\n",
    "            rmdir_(child)\n",
    "        elif os.path.isfile(child):                       \n",
    "            os.remove(child)\n",
    "    os.rmdir(dir_name)\n",
    "             \n",
    "def create_dataset(dataset_name, from_data=\"data/data/Nodule\", force=False):\n",
    "    if os.path.exists(dataset_name) and force:\n",
    "        print(\"Removing existing directory:\", dataset_name)\n",
    "        rmdir_(dataset_name)\n",
    "    elif os.path.exists(dataset_name) and not force:\n",
    "        print(\"%s already exists, skip creating...\" % dataset_name)\n",
    "        return os.listdir(dataset_name)\n",
    "    else:\n",
    "        os.mkdir(dataset_name)\n",
    "    try:\n",
    "        image_files = os.listdir(from_data)\n",
    "        data_set = random.sample(image_files, 200)\n",
    "        for smpl in data_set:\n",
    "            move(os.path.join(from_data, smpl), dataset_name)\n",
    "        return data_set\n",
    "    except IOError as e:\n",
    "        print(\"Can't create dataset\", \"dataset_name:\", str(e))"
   ]
  },
  {
   "cell_type": "code",
   "execution_count": 7,
   "metadata": {
    "collapsed": false,
    "deletable": true,
    "editable": true
   },
   "outputs": [],
   "source": [
    "test_set = create_dataset(\"test_set\", from_data=IMAGE_DIR)\n",
    "validating_set = create_dataset(\"validating_set\", from_data=IMAGE_DIR)\n",
    "training_set = os.listdir(IMAGE_DIR)"
   ]
  },
  {
   "cell_type": "markdown",
   "metadata": {
    "deletable": true,
    "editable": true
   },
   "source": [
    "load all the images into a tensor"
   ]
  },
  {
   "cell_type": "code",
   "execution_count": 8,
   "metadata": {
    "collapsed": false,
    "deletable": true,
    "editable": true
   },
   "outputs": [],
   "source": [
    "def load_image_tensor(folder):\n",
    "    \"\"\"\n",
    "    folder: image data folder\n",
    "    \"\"\"\n",
    "    image_files = os.listdir(folder)\n",
    "    image_tensor = np.ndarray(shape=(len(image_files), IMAGE_SIZE, IMAGE_SIZE, CHANNEL_NUM),\n",
    "                        dtype=np.float32)\n",
    "    image_idx = 0\n",
    "    print(folder)\n",
    "    for image in image_files:\n",
    "        image_file = os.path.join(folder, image)\n",
    "        image_data = (ndimage.imread(image_file).astype(float) - \n",
    "                    IMAGE_DEPTH / 2) / IMAGE_DEPTH\n",
    "        image_tensor[image_idx, :, :] = image_data\n",
    "        image_idx += 1\n",
    "        \n",
    "    return image_tensor\n",
    "\n",
    "\n",
    "def pickle_tensor(dataset_name, data_dir, force=False):\n",
    "    \"\"\"\n",
    "    dataset: image folder\n",
    "    \"\"\"\n",
    "    pickle_name = dataset_name + '.pickle'\n",
    "    if os.path.exists(pickle_name) and not force:\n",
    "      # override by setting force=True.\n",
    "      print('%s already present - Skipping pickling.' % pickle_name)\n",
    "    else:\n",
    "      print('Pickling %s.' % pickle_name)\n",
    "      image_tensor = load_image_tensor(data_dir)\n",
    "      try:\n",
    "        with open(pickle_name, 'wb') as f:\n",
    "          pickle.dump(image_tensor, f, pickle.HIGHEST_PROTOCOL)\n",
    "      except Exception as e:\n",
    "        print('Unable to save data to', pickle_name, ':', e)       \n",
    "    return pickle_name"
   ]
  },
  {
   "cell_type": "code",
   "execution_count": 9,
   "metadata": {
    "collapsed": false,
    "deletable": true,
    "editable": true
   },
   "outputs": [
    {
     "name": "stdout",
     "output_type": "stream",
     "text": [
      "Pickling test_set.pickle.\n",
      "test_set\n"
     ]
    },
    {
     "data": {
      "text/plain": [
       "'test_set.pickle'"
      ]
     },
     "execution_count": 9,
     "metadata": {},
     "output_type": "execute_result"
    }
   ],
   "source": [
    "pickle_tensor(\"test_set\", \"test_set\")"
   ]
  },
  {
   "cell_type": "code",
   "execution_count": 10,
   "metadata": {
    "collapsed": false,
    "deletable": true,
    "editable": true
   },
   "outputs": [
    {
     "name": "stdout",
     "output_type": "stream",
     "text": [
      "Pickling validating_set.pickle.\n",
      "validating_set\n"
     ]
    },
    {
     "data": {
      "text/plain": [
       "'validating_set.pickle'"
      ]
     },
     "execution_count": 10,
     "metadata": {},
     "output_type": "execute_result"
    }
   ],
   "source": [
    "pickle_tensor(\"validating_set\", \"validating_set\")"
   ]
  },
  {
   "cell_type": "code",
   "execution_count": 12,
   "metadata": {
    "collapsed": false,
    "deletable": true,
    "editable": true
   },
   "outputs": [
    {
     "name": "stdout",
     "output_type": "stream",
     "text": [
      "Pickling training_set.pickle.\n",
      "data/Nodule\n"
     ]
    },
    {
     "data": {
      "text/plain": [
       "'training_set.pickle'"
      ]
     },
     "execution_count": 12,
     "metadata": {},
     "output_type": "execute_result"
    }
   ],
   "source": [
    "pickle_tensor(\"training_set\", \"data/Nodule\")"
   ]
  },
  {
   "cell_type": "code",
   "execution_count": 14,
   "metadata": {
    "collapsed": false,
    "deletable": true,
    "editable": true
   },
   "outputs": [
    {
     "name": "stdout",
     "output_type": "stream",
     "text": [
      "data/Nodule\n"
     ]
    }
   ],
   "source": [
    "training_tensor = load_image_tensor(\"data/Nodule\")"
   ]
  },
  {
   "cell_type": "code",
   "execution_count": 21,
   "metadata": {
    "collapsed": false,
    "deletable": true,
    "editable": true
   },
   "outputs": [
    {
     "data": {
      "text/plain": [
       "<matplotlib.image.AxesImage at 0x7ffaf2cd9160>"
      ]
     },
     "execution_count": 21,
     "metadata": {},
     "output_type": "execute_result"
    },
    {
     "data": {
      "image/png": "[encoded data removed]",
      "text/plain": [
       "<matplotlib.figure.Figure at 0x7ffaf2cd9390>"
      ]
     },
     "metadata": {},
     "output_type": "display_data"
    }
   ],
   "source": [
    "plt.axis(\"off\")\n",
    "plt.imshow(training_tensor[0, :, :, :])"
   ]
  },
  {
   "cell_type": "code",
   "execution_count": 16,
   "metadata": {
    "collapsed": false,
    "deletable": true,
    "editable": true
   },
   "outputs": [
    {
     "data": {
      "text/plain": [
       "11084"
      ]
     },
     "execution_count": 16,
     "metadata": {},
     "output_type": "execute_result"
    }
   ],
   "source": [
    "len(training_tensor)"
   ]
  },
  {
   "cell_type": "code",
   "execution_count": 17,
   "metadata": {
    "collapsed": false,
    "deletable": true,
    "editable": true
   },
   "outputs": [
    {
     "data": {
      "text/plain": [
       "(11084, 100, 100, 3)"
      ]
     },
     "execution_count": 17,
     "metadata": {},
     "output_type": "execute_result"
    }
   ],
   "source": [
    "training_tensor.shape"
   ]
  },
  {
   "cell_type": "code",
   "execution_count": 18,
   "metadata": {
    "collapsed": false,
    "deletable": true,
    "editable": true
   },
   "outputs": [
    {
     "name": "stdout",
     "output_type": "stream",
     "text": [
      "test_set\n"
     ]
    }
   ],
   "source": [
    "test_tensor = load_image_tensor(\"test_set\")"
   ]
  },
  {
   "cell_type": "code",
   "execution_count": 19,
   "metadata": {
    "collapsed": false,
    "deletable": true,
    "editable": true,
    "scrolled": true
   },
   "outputs": [
    {
     "data": {
      "text/plain": [
       "<matplotlib.image.AxesImage at 0x7ffaf2c95c18>"
      ]
     },
     "execution_count": 19,
     "metadata": {},
     "output_type": "execute_result"
    },
    {
     "data": {
      "image/png": "[encoded data removed]",
      "text/plain": [
       "<matplotlib.figure.Figure at 0x7ffaf2cc4908>"
      ]
     },
     "metadata": {},
     "output_type": "display_data"
    }
   ],
   "source": [
    "plt.imshow(test_tensor[0,:,:,:])"
   ]
  },
  {
   "cell_type": "code",
   "execution_count": 20,
   "metadata": {
    "collapsed": false,
    "deletable": true,
    "editable": true
   },
   "outputs": [
    {
     "data": {
      "text/plain": [
       "array([ 0.4254902,  0.4254902,  0.4254902], dtype=float32)"
      ]
     },
     "execution_count": 20,
     "metadata": {},
     "output_type": "execute_result"
    }
   ],
   "source": [
    "test_tensor[0,4,4,:]"
   ]
  },
  {
   "cell_type": "code",
   "execution_count": null,
   "metadata": {
    "collapsed": true,
    "deletable": true,
    "editable": true
   },
   "outputs": [],
   "source": []
  },
  {
   "cell_type": "code",
   "execution_count": null,
   "metadata": {
    "collapsed": true,
    "deletable": true,
    "editable": true
   },
   "outputs": [],
   "source": []
  }
 ],
 "metadata": {
  "kernelspec": {
   "display_name": "TensorFlow",
   "language": "python",
   "name": "tensorflow"
  },
  "language_info": {
   "codemirror_mode": {
    "name": "ipython",
    "version": 3
   },
   "file_extension": ".py",
   "mimetype": "text/x-python",
   "name": "python",
   "nbconvert_exporter": "python",
   "pygments_lexer": "ipython3",
   "version": "3.5.2"
  }
 },
 "nbformat": 4,
 "nbformat_minor": 2
}
